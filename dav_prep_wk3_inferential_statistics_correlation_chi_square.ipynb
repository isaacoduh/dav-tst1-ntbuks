{
  "nbformat": 4,
  "nbformat_minor": 0,
  "metadata": {
    "colab": {
      "provenance": []
    },
    "kernelspec": {
      "name": "python3",
      "display_name": "Python 3"
    },
    "language_info": {
      "name": "python"
    }
  },
  "cells": [
    {
      "cell_type": "code",
      "execution_count": 1,
      "metadata": {
        "id": "KInILI6w0WSM",
        "colab": {
          "base_uri": "https://localhost:8080/"
        },
        "outputId": "92fed6e3-7d76-4584-c5b6-694832407a57"
      },
      "outputs": [
        {
          "output_type": "stream",
          "name": "stdout",
          "text": [
            "Correlation between a and b is:  0.9626543716854525\n",
            "\n",
            "\n",
            "Correlation between b and c is:  0.9922669819345395\n",
            "\n",
            "\n",
            "Correlation between c and d is:  0.9441724057015127\n",
            "\n",
            "\n",
            "Correlation between d and e is:  -0.9478394580145232\n",
            "\n",
            "\n"
          ]
        }
      ],
      "source": [
        "import pandas as pd\n",
        "import numpy as np\n",
        "\n",
        "#Correlation measures the strength of the relationship\n",
        "# between two variables (numeric or continuous). We shall use numpy, scipy, and pandas.\n",
        "\n",
        "dataset = {'a': [10, 20, 30, 40, 50, 60, 70],\n",
        "           'b': [20, 45, 55, 78, 82, 88, 95],\n",
        "           'c': [10, 45, 67, 99, 98, 100, 120],\n",
        "           'd': [15, 25, 33, 43, 54, 61, 71],\n",
        "           'e': [140, 120, 55, 65, 44, 30, 3]\n",
        "          }\n",
        "df = pd.DataFrame(data=dataset)\n",
        "column_0 = df[\"a\"]\n",
        "column_1 = df[\"b\"]\n",
        "column_2 = df[\"c\"]\n",
        "column_3 = df[\"d\"]\n",
        "column_4 = df[\"e\"]\n",
        "\n",
        "\n",
        "#Pearson Correlation\n",
        "correlation1 = column_0.corr(column_1)\n",
        "correlation2 = column_1.corr(column_2)\n",
        "correlation3 = column_2.corr(column_3)\n",
        "correlation4 = column_3.corr(column_4)\n",
        "\n",
        "print(\"Correlation between a and b is: \", correlation1)\n",
        "print(\"\\n\")\n",
        "print(\"Correlation between b and c is: \", correlation2)\n",
        "print(\"\\n\")\n",
        "print(\"Correlation between c and d is: \", correlation3)\n",
        "print(\"\\n\")\n",
        "print(\"Correlation between d and e is: \", correlation4)\n",
        "print(\"\\n\")\n"
      ]
    },
    {
      "cell_type": "markdown",
      "source": [
        "Find Pearson correlation coefficients (r) between all the columns and display as a correlation matrix - use pandas.Dataframe."
      ],
      "metadata": {
        "id": "sDP7NGjXYhP6"
      }
    },
    {
      "cell_type": "code",
      "source": [
        "import pandas as pd\n",
        "import numpy as np\n",
        "\n",
        "\n",
        "dataset = {'a': [10, 20, 30, 40, 50, 60, 70],\n",
        "           'b': [20, 45, 55, 78, 82, 88, 95],\n",
        "           'c': [10, 45, 67, 99, 98, 100, 120],\n",
        "           'd': [15, 25, 33, 43, 54, 61, 71],\n",
        "           'e': [140, 120, 55, 65, 44, 30, 3]\n",
        "          }\n",
        "df = pd.DataFrame(data=dataset)\n",
        "correlation_df = df.corr()\n",
        "\n",
        "print(\"\\n\")\n",
        "print(\"Correlation Matrix for d to e: \")\n",
        "print(\"\\n\")\n",
        "print(correlation_df)\n",
        "print(\"\\n\")\n",
        "\n",
        "#https://pandas.pydata.org/pandas-docs/stable/reference/api/pandas.DataFrame.corr.html\n",
        "# Others are: kendall(Kendall Tau correlation coefficient)\n",
        "#spearman (Spearman rank correlation)\n",
        "\n",
        "correlation_df2 = df.corr(method = 'pearson')\n",
        "print(\"\\n\")\n",
        "print(\"Pearson Standard Correlation Coefficient\")\n",
        "print(correlation_df2)\n",
        "print(\"\\n\")\n"
      ],
      "metadata": {
        "colab": {
          "base_uri": "https://localhost:8080/"
        },
        "id": "2bnYB60zYjCy",
        "outputId": "7de370cf-7592-4613-8bb5-d07aa3977615"
      },
      "execution_count": 3,
      "outputs": [
        {
          "output_type": "stream",
          "name": "stdout",
          "text": [
            "\n",
            "\n",
            "Correlation Matrix for d to e: \n",
            "\n",
            "\n",
            "          a         b         c         d         e\n",
            "a  1.000000  0.962654  0.942664  0.999186 -0.952722\n",
            "b  0.962654  1.000000  0.992267  0.964684 -0.933838\n",
            "c  0.942664  0.992267  1.000000  0.944172 -0.939825\n",
            "d  0.999186  0.964684  0.944172  1.000000 -0.947839\n",
            "e -0.952722 -0.933838 -0.939825 -0.947839  1.000000\n",
            "\n",
            "\n",
            "\n",
            "\n",
            "Pearson Standard Correlation Coefficient\n",
            "          a         b         c         d         e\n",
            "a  1.000000  0.962654  0.942664  0.999186 -0.952722\n",
            "b  0.962654  1.000000  0.992267  0.964684 -0.933838\n",
            "c  0.942664  0.992267  1.000000  0.944172 -0.939825\n",
            "d  0.999186  0.964684  0.944172  1.000000 -0.947839\n",
            "e -0.952722 -0.933838 -0.939825 -0.947839  1.000000\n",
            "\n",
            "\n"
          ]
        }
      ]
    },
    {
      "cell_type": "markdown",
      "source": [
        "Example 1.1.3. Use pandas.Series.corr() to find the correlation coefficient (r) between two columns.\n",
        "Type the following:\n"
      ],
      "metadata": {
        "id": "LhuXdW2WY3Mh"
      }
    },
    {
      "cell_type": "code",
      "source": [
        "#Panda Series\n",
        "#Simple Correlation\n",
        "import pandas as pd\n",
        "import numpy as np\n",
        "\n",
        "\n",
        "a = pd.Series([10, 20, 30, 40, 50, 60, 70])\n",
        "b = pd.Series([20, 45, 55, 78, 82, 88, 95])\n",
        "c = pd.Series([10, 45, 67, 99, 98, 100, 120])\n",
        "d = pd.Series([15, 25, 33, 43, 54, 61, 71])\n",
        "e = pd.Series([140, 120, 55, 65, 44, 30, 3])\n",
        "\n",
        "column_0 = a\n",
        "column_1 = b\n",
        "column_2 = c\n",
        "column_3 = d\n",
        "column_4 = e\n",
        "\n",
        "#Pearson Correlation\n",
        "correlation1 = column_0.corr(column_1).round(decimals=3)\n",
        "correlation2 = column_1.corr(column_2).round(decimals=3)\n",
        "correlation3 = column_2.corr(column_3).round(decimals=3)\n",
        "correlation4 = column_3.corr(column_4).round(decimals=3)\n",
        "\n",
        "print(\"Correlation between a and b is: \", correlation1)\n",
        "print(\"\\n\")\n",
        "print(\"Correlation between b and c is: \", correlation2)\n",
        "print(\"\\n\")\n",
        "print(\"Correlation between c and d is: \", correlation3)\n",
        "print(\"\\n\")\n",
        "print(\"Correlation between d and e is: \", correlation4)\n",
        "print(\"\\n\")\n"
      ],
      "metadata": {
        "colab": {
          "base_uri": "https://localhost:8080/"
        },
        "id": "rwGfxCnzY59J",
        "outputId": "abac6c3e-e69d-4e0f-9086-748d54026260"
      },
      "execution_count": 4,
      "outputs": [
        {
          "output_type": "stream",
          "name": "stdout",
          "text": [
            "Correlation between a and b is:  0.963\n",
            "\n",
            "\n",
            "Correlation between b and c is:  0.992\n",
            "\n",
            "\n",
            "Correlation between c and d is:  0.944\n",
            "\n",
            "\n",
            "Correlation between d and e is:  -0.948\n",
            "\n",
            "\n"
          ]
        }
      ]
    },
    {
      "cell_type": "markdown",
      "source": [
        "Heatmaps for correlation\n",
        "We shall use seaborn.heatmap. (Note: seaborn is for data visualisation).\n",
        "Heatmap for Correlation Matrix (without mask-full rectangle and label).\n"
      ],
      "metadata": {
        "id": "U-fe_eYsZGQZ"
      }
    },
    {
      "cell_type": "markdown",
      "source": [
        ". Note the Pearson correlation matrix is only for two continuous variables. We are going to create a correlation matrix for all continuous variables"
      ],
      "metadata": {
        "id": "cxv8lWUaZ-cC"
      }
    },
    {
      "cell_type": "code",
      "source": [
        "import numpy as np\n",
        "import pandas as pd\n",
        "import seaborn as sns\n",
        "import matplotlib.pyplot as plt\n",
        "\n",
        "#- Heatmap without label and mask\n",
        "dataset = pd.read_excel('pima-indians-diabetes.xlsx')\n",
        "df = pd.DataFrame(dataset, columns= ['pregNo', 'glucose', 'bp', 'skin', 'insulin', 'bmi', 'pedigree', 'age'])\n",
        "print (df)\n",
        "\n",
        "#create a correlation matrix for all the column sets except the target variable\n",
        "correlation = df.corr()\n",
        "print(\"\\n\")\n",
        "print(\"Pearson Standard Correlation Coefficient Matrix\")\n",
        "print(correlation)\n",
        "print(\"\\n\")\n",
        "\n",
        "#Set up matplotlib figure\n",
        "f, ax = plt.subplots(figsize=(11, 9))\n",
        "\n",
        "#Set up a seaborn heatmap\n",
        "#seaborne aesthetics https://seaborn.pydata.org/tutorial/aesthetics.html\n",
        "sns.set_style(\"white\")\n",
        "\n",
        "\n",
        "# Generate a custom diverging colormap\n",
        "cmap = sns.diverging_palette(230, 20, as_cmap=True)\n",
        "\n",
        "# Draw the heatmap with the mask and correct aspect ratio\n",
        "sns.heatmap(correlation, cmap=cmap, vmax=.3, center=0,\n",
        "            square=True, linewidths=.5, cbar_kws={\"shrink\": .5})\n",
        "\n"
      ],
      "metadata": {
        "colab": {
          "base_uri": "https://localhost:8080/",
          "height": 1000
        },
        "id": "gCHkd5LhZKlc",
        "outputId": "817e69e7-3a00-4be8-fca5-03ffb0e87cb0"
      },
      "execution_count": 7,
      "outputs": [
        {
          "output_type": "stream",
          "name": "stdout",
          "text": [
            "     pregNo  glucose  bp  skin  insulin   bmi  pedigree  age\n",
            "0         6      148  72    35        0  33.6     0.627   50\n",
            "1         1       85  66    29        0  26.6     0.351   31\n",
            "2         8      183  64     0        0  23.3     0.672   32\n",
            "3         1       89  66    23       94  28.1     0.167   21\n",
            "4         0      137  40    35      168  43.1     2.288   33\n",
            "..      ...      ...  ..   ...      ...   ...       ...  ...\n",
            "763      10      101  76    48      180  32.9     0.171   63\n",
            "764       2      122  70    27        0  36.8     0.340   27\n",
            "765       5      121  72    23      112  26.2     0.245   30\n",
            "766       1      126  60     0        0  30.1     0.349   47\n",
            "767       1       93  70    31        0  30.4     0.315   23\n",
            "\n",
            "[768 rows x 8 columns]\n",
            "\n",
            "\n",
            "Pearson Standard Correlation Coefficient Matrix\n",
            "            pregNo   glucose        bp      skin   insulin       bmi  \\\n",
            "pregNo    1.000000  0.129459  0.141282 -0.081672 -0.073535  0.017683   \n",
            "glucose   0.129459  1.000000  0.152590  0.057328  0.331357  0.221071   \n",
            "bp        0.141282  0.152590  1.000000  0.207371  0.088933  0.281805   \n",
            "skin     -0.081672  0.057328  0.207371  1.000000  0.436783  0.392573   \n",
            "insulin  -0.073535  0.331357  0.088933  0.436783  1.000000  0.197859   \n",
            "bmi       0.017683  0.221071  0.281805  0.392573  0.197859  1.000000   \n",
            "pedigree -0.033523  0.137337  0.041265  0.183928  0.185071  0.140647   \n",
            "age       0.544341  0.263514  0.239528 -0.113970 -0.042163  0.036242   \n",
            "\n",
            "          pedigree       age  \n",
            "pregNo   -0.033523  0.544341  \n",
            "glucose   0.137337  0.263514  \n",
            "bp        0.041265  0.239528  \n",
            "skin      0.183928 -0.113970  \n",
            "insulin   0.185071 -0.042163  \n",
            "bmi       0.140647  0.036242  \n",
            "pedigree  1.000000  0.033561  \n",
            "age       0.033561  1.000000  \n",
            "\n",
            "\n"
          ]
        },
        {
          "output_type": "execute_result",
          "data": {
            "text/plain": [
              "<Axes: >"
            ]
          },
          "metadata": {},
          "execution_count": 7
        },
        {
          "output_type": "display_data",
          "data": {
            "text/plain": [
              "<Figure size 1100x900 with 2 Axes>"
            ],
            "image/png": "[encoded data removed]"
          },
          "metadata": {}
        }
      ]
    },
    {
      "cell_type": "code",
      "source": [
        "# Heatmap without  label and with mask\n",
        "import numpy as np\n",
        "import pandas as pd\n",
        "import seaborn as sns\n",
        "import matplotlib.pyplot as plt\n",
        "\n",
        "#read in the pima-indians-diabetese.xlsx dataset\n",
        "dataset = pd.read_excel('pima-indians-diabetes.xlsx')\n",
        "df = pd.DataFrame(dataset, columns= ['pregNo', 'glucose', 'bp', 'skin', 'insulin', 'bmi', 'pedigree', 'age'])\n",
        "print (df)\n",
        "\n",
        "\n",
        "#create a correlation matrix for all the column sets except the target variable\n",
        "correlation = df.corr()\n",
        "print(\"\\n\")\n",
        "print(\"Pearson Standard Correlation Coefficient Matrix\")\n",
        "print(correlation)\n",
        "print(\"\\n\")\n",
        "\n",
        "\n",
        "# Generate a mask for the upper triangle\n",
        "mask = np.triu(np.ones_like(correlation, dtype=bool))\n",
        "\n",
        "\n",
        "#Set up matplotlib figure\n",
        "f, ax = plt.subplots(figsize=(11, 9))\n",
        "\n",
        "#Set up a seaborn heatmap\n",
        "#seaborne aesthetics https://seaborn.pydata.org/tutorial/aesthetics.html\n",
        "sns.set_style(\"white\")\n",
        "\n",
        "# Generate a custom diverging colormap\n",
        "cmap = sns.diverging_palette(230, 20, as_cmap=True)\n",
        "\n",
        "# Draw the heatmap with the mask and correct aspect ratio\n",
        "sns.heatmap(correlation, mask = mask, cmap=cmap, vmax=.3, center=0,\n",
        "            square=True, linewidths=.5, cbar_kws={\"shrink\": .5})\n"
      ],
      "metadata": {
        "colab": {
          "base_uri": "https://localhost:8080/",
          "height": 1000
        },
        "id": "h8WEiN9OadVR",
        "outputId": "5de78e86-159c-4bb1-96a4-8dbfc640a39b"
      },
      "execution_count": 8,
      "outputs": [
        {
          "output_type": "stream",
          "name": "stdout",
          "text": [
            "     pregNo  glucose  bp  skin  insulin   bmi  pedigree  age\n",
            "0         6      148  72    35        0  33.6     0.627   50\n",
            "1         1       85  66    29        0  26.6     0.351   31\n",
            "2         8      183  64     0        0  23.3     0.672   32\n",
            "3         1       89  66    23       94  28.1     0.167   21\n",
            "4         0      137  40    35      168  43.1     2.288   33\n",
            "..      ...      ...  ..   ...      ...   ...       ...  ...\n",
            "763      10      101  76    48      180  32.9     0.171   63\n",
            "764       2      122  70    27        0  36.8     0.340   27\n",
            "765       5      121  72    23      112  26.2     0.245   30\n",
            "766       1      126  60     0        0  30.1     0.349   47\n",
            "767       1       93  70    31        0  30.4     0.315   23\n",
            "\n",
            "[768 rows x 8 columns]\n",
            "\n",
            "\n",
            "Pearson Standard Correlation Coefficient Matrix\n",
            "            pregNo   glucose        bp      skin   insulin       bmi  \\\n",
            "pregNo    1.000000  0.129459  0.141282 -0.081672 -0.073535  0.017683   \n",
            "glucose   0.129459  1.000000  0.152590  0.057328  0.331357  0.221071   \n",
            "bp        0.141282  0.152590  1.000000  0.207371  0.088933  0.281805   \n",
            "skin     -0.081672  0.057328  0.207371  1.000000  0.436783  0.392573   \n",
            "insulin  -0.073535  0.331357  0.088933  0.436783  1.000000  0.197859   \n",
            "bmi       0.017683  0.221071  0.281805  0.392573  0.197859  1.000000   \n",
            "pedigree -0.033523  0.137337  0.041265  0.183928  0.185071  0.140647   \n",
            "age       0.544341  0.263514  0.239528 -0.113970 -0.042163  0.036242   \n",
            "\n",
            "          pedigree       age  \n",
            "pregNo   -0.033523  0.544341  \n",
            "glucose   0.137337  0.263514  \n",
            "bp        0.041265  0.239528  \n",
            "skin      0.183928 -0.113970  \n",
            "insulin   0.185071 -0.042163  \n",
            "bmi       0.140647  0.036242  \n",
            "pedigree  1.000000  0.033561  \n",
            "age       0.033561  1.000000  \n",
            "\n",
            "\n"
          ]
        },
        {
          "output_type": "execute_result",
          "data": {
            "text/plain": [
              "<Axes: >"
            ]
          },
          "metadata": {},
          "execution_count": 8
        },
        {
          "output_type": "display_data",
          "data": {
            "text/plain": [
              "<Figure size 1100x900 with 2 Axes>"
            ],
            "image/png": "[encoded data removed]"
          },
          "metadata": {}
        }
      ]
    },
    {
      "cell_type": "code",
      "source": [
        "# Heatmap with label (or annotation) and mask\n",
        "import numpy as np\n",
        "import pandas as pd\n",
        "import seaborn as sns\n",
        "import matplotlib.pyplot as plt\n",
        "\n",
        "\n",
        "#read in the pima-indians-diabetese.xlsx dataset\n",
        "dataset = pd.read_excel('pima-indians-diabetes.xlsx')\n",
        "df = pd.DataFrame(dataset, columns= ['pregNo', 'glucose', 'bp', 'skin', 'insulin', 'bmi', 'pedigree', 'age'])\n",
        "print (df)\n",
        "\n",
        "\n",
        "#create a correlation matrix for all the column sets except the target variable\n",
        "correlation = df.corr()\n",
        "print(\"\\n\")\n",
        "print(\"Pearson Standard Correlation Coefficient Matrix\")\n",
        "print(correlation)\n",
        "print(\"\\n\")\n",
        "\n",
        "# Generate a mask for the upper triangle\n",
        "mask = np.triu(np.ones_like(correlation, dtype=bool))\n",
        "\n",
        "\n",
        "#Set up matplotlib figure\n",
        "f, ax = plt.subplots(figsize=(11, 9))\n",
        "\n",
        "#Set up a seaborn heatmap\n",
        "#seaborne aesthetics https://seaborn.pydata.org/tutorial/aesthetics.html\n",
        "sns.set_style(\"white\")\n",
        "\n",
        "# Generate a custom diverging colormap\n",
        "cmap = sns.diverging_palette(230, 20, as_cmap=True)\n",
        "\n",
        "#Turn on annotations for correlation values\n",
        "#annot = True\n",
        "#annot_kws = {\"size\": 12}\n",
        "\n",
        "# Draw the heatmap with the mask and correct aspect ratio\n",
        "heatmap = sns.heatmap(correlation, mask = mask, cmap=cmap, vmax=.3, center=0,\n",
        "            square=True, linewidths=.5, cbar_kws={\"shrink\": .5},\n",
        "            annot = True, annot_kws = {\"size\": 12})\n",
        "\n",
        "#Add ticks for labels\n",
        "sns.set_style({'xtick.bottom': True}, {'ytick.left': True})\n",
        "\n",
        "#Export heatmap as an image\n",
        "heatmap.get_figure().savefig('heatmap_diabetes.png', bbox_inches='tight')\n",
        "\n"
      ],
      "metadata": {
        "colab": {
          "base_uri": "https://localhost:8080/",
          "height": 1000
        },
        "id": "-Bn3FEDBbwTi",
        "outputId": "6344790a-d341-4979-fe5d-a9df78527342"
      },
      "execution_count": 9,
      "outputs": [
        {
          "output_type": "stream",
          "name": "stdout",
          "text": [
            "     pregNo  glucose  bp  skin  insulin   bmi  pedigree  age\n",
            "0         6      148  72    35        0  33.6     0.627   50\n",
            "1         1       85  66    29        0  26.6     0.351   31\n",
            "2         8      183  64     0        0  23.3     0.672   32\n",
            "3         1       89  66    23       94  28.1     0.167   21\n",
            "4         0      137  40    35      168  43.1     2.288   33\n",
            "..      ...      ...  ..   ...      ...   ...       ...  ...\n",
            "763      10      101  76    48      180  32.9     0.171   63\n",
            "764       2      122  70    27        0  36.8     0.340   27\n",
            "765       5      121  72    23      112  26.2     0.245   30\n",
            "766       1      126  60     0        0  30.1     0.349   47\n",
            "767       1       93  70    31        0  30.4     0.315   23\n",
            "\n",
            "[768 rows x 8 columns]\n",
            "\n",
            "\n",
            "Pearson Standard Correlation Coefficient Matrix\n",
            "            pregNo   glucose        bp      skin   insulin       bmi  \\\n",
            "pregNo    1.000000  0.129459  0.141282 -0.081672 -0.073535  0.017683   \n",
            "glucose   0.129459  1.000000  0.152590  0.057328  0.331357  0.221071   \n",
            "bp        0.141282  0.152590  1.000000  0.207371  0.088933  0.281805   \n",
            "skin     -0.081672  0.057328  0.207371  1.000000  0.436783  0.392573   \n",
            "insulin  -0.073535  0.331357  0.088933  0.436783  1.000000  0.197859   \n",
            "bmi       0.017683  0.221071  0.281805  0.392573  0.197859  1.000000   \n",
            "pedigree -0.033523  0.137337  0.041265  0.183928  0.185071  0.140647   \n",
            "age       0.544341  0.263514  0.239528 -0.113970 -0.042163  0.036242   \n",
            "\n",
            "          pedigree       age  \n",
            "pregNo   -0.033523  0.544341  \n",
            "glucose   0.137337  0.263514  \n",
            "bp        0.041265  0.239528  \n",
            "skin      0.183928 -0.113970  \n",
            "insulin   0.185071 -0.042163  \n",
            "bmi       0.140647  0.036242  \n",
            "pedigree  1.000000  0.033561  \n",
            "age       0.033561  1.000000  \n",
            "\n",
            "\n"
          ]
        },
        {
          "output_type": "display_data",
          "data": {
            "text/plain": [
              "<Figure size 1100x900 with 2 Axes>"
            ],
            "image/png": "[encoded data removed]"
          },
          "metadata": {}
        }
      ]
    },
    {
      "cell_type": "markdown",
      "source": [
        "Chi-square Goodness of Fit Test\n",
        "If there is only 1 categorical variable, then use Chi-square goodness of fit.  test is a non-parametric (distribution-free) method used to compare the observed and expected values from one categorical variable.  Use scipy.stats.chisquare\n"
      ],
      "metadata": {
        "id": "SnuEN555drPc"
      }
    },
    {
      "cell_type": "markdown",
      "source": [
        "Example 2.1.1: We assume to have two sets of data: (i) set of observed frequency for daily number of tourists that visit a museum in a week (f_obs); (ii) set of expected frequency for daily number of tourists that visit the museum in a week (f_exp).\n",
        "The procedures for the Chi-Square Goodness of Fit Test are:\n",
        "1.\tChoose a level of confidence. In this example, we shall choose 98%, = 0.02\n",
        "2.\tThe hypotheses are as follows:\n",
        "Null Hypothesis, Ho is there is no significant difference between the observed and expected values\n",
        "Alternative Hypothesis, Ha is there is a significant difference between the observed and expected values\n",
        "3.\tInterpret the results and draw a conclusion\n"
      ],
      "metadata": {
        "id": "U7wl0uI5dyYc"
      }
    },
    {
      "cell_type": "code",
      "source": [
        "#Reference https://docs.scipy.org/doc/scipy/reference/generated/scipy.stats.chisquare.html\n",
        "#Chi Square Goodness Fit Test\n",
        "from scipy.stats import chisquare\n",
        "\n",
        "#Data for observed and expected frequencies from Monday to Sunday\n",
        "f_obs = [110, 120, 230, 150, 170, 420, 300]\n",
        "f_exp = [200, 200, 200, 200, 200, 250, 250]\n",
        "\n",
        "#apply chisquare. ddof and axis is assumed to be 0.\n",
        "chi_sqValue, pvalue = chisquare(f_obs, f_exp)\n",
        "print(\"Chi Square value is: \", chi_sqValue)\n",
        "print(\"\\n\")\n",
        "print(\"P value is: \", pvalue)\n",
        "print(\"\\n\")\n",
        "\n",
        "# Interpretation of the Results\n",
        "# The X2 value is 194.62 and  p value, 2.648587320540443e-39 < = 0.02.\n",
        "# Therefore, reject the null hypothesis, i.e. there is a significant difference between the observed and expected values.\n"
      ],
      "metadata": {
        "colab": {
          "base_uri": "https://localhost:8080/"
        },
        "id": "ertrBY8Qd341",
        "outputId": "66b0df99-2b1d-47c2-a82d-211d52aa863d"
      },
      "execution_count": 11,
      "outputs": [
        {
          "output_type": "stream",
          "name": "stdout",
          "text": [
            "Chi Square value is:  219.6\n",
            "\n",
            "\n",
            "P value is:  1.2663413447683768e-44\n",
            "\n",
            "\n"
          ]
        }
      ]
    },
    {
      "cell_type": "markdown",
      "source": [
        "Chi Square Test of Independence\n",
        "Two categorical variables (independent variable) and a dependent variable.\n",
        "The aim is to explore whether there is any dependence of the two categorical variables.\n",
        "\n",
        "Interpretation of Chi Square Test of Independence\n",
        "The Chi-square test of association evaluates relationships between categorical variables. Like any statistical hypothesis test, the Chi-square test has both a null hypothesis and an alternative hypothesis.\n",
        "o\tNull hypothesis: There are no relationships between the categorical variables. If you know the value of one variable, it does not help you predict the value of another variable.\n",
        "o\tAlternative hypothesis: There are relationships between the categorical variables. Knowing the value of one variable does help you predict the value of another variable.\n"
      ],
      "metadata": {
        "id": "JO5p6lmbfSFl"
      }
    },
    {
      "cell_type": "code",
      "source": [
        "#Crosstab, Contingency Table and Chi Square\n",
        "import pandas as pd\n",
        "import scipy.stats as stats\n",
        "\n",
        "#read in the titanic.txt file\n",
        "titanic = pd.read_csv(\"titanic.txt\")\n",
        "print(titanic.info())\n",
        "print(\"\\n\")\n",
        "\n",
        "print(titanic.describe())\n",
        "print(\"\\n\")\n",
        "\n",
        "print(\"Total number of males and females who survived in the dataset\")\n",
        "groupby_sex = titanic.groupby([\"Sex\", \"Survived\"]).size()\n",
        "print(groupby_sex)\n",
        "print(\"\\n\")\n",
        "\n",
        "crosstab = pd.crosstab(titanic[\"Sex\"], titanic[\"Survived\"])\n",
        "print(crosstab)\n",
        "print(\"\\n\")\n",
        "\n",
        "#Conduct the Chi Square Independence Test\n",
        "#Interpretation https://www.pythonfordatascience.org/chi-square-test-of-independence-python/\n",
        "#The information is returned within a tuple where the first value is the  test static,\n",
        "#the second value is the p-value,\n",
        "#and the third number is the degrees of freedom.\n",
        "#An array is also returned which contains the expected cell counts.\n",
        "\n",
        "w, x, y, z = stats.chi2_contingency(crosstab)\n",
        "print(\"The Chi Square value is:\", w)\n",
        "print(\"The pvalue is:\", x)\n",
        "print(\"The value for degree of freedom is :\", y)\n",
        "print(\"Expected cell counts is:\", z)\n",
        "print(\"\\n\")\n",
        "\n",
        "\n",
        "#To capture the relevant frequency values and store in variables\n",
        "print(\"Total number of males and females who survived in the dataset\")\n",
        "a,b,c,d = titanic.groupby([\"Sex\", \"Survived\"]).size()\n",
        "print(\"Number of females who died was:\", a)\n",
        "print(\"Number of females who survived was:\", b)\n",
        "print(\"Number of males who died was:\", c)\n",
        "print(\"Number of males who survived was:\", d)\n",
        "\n",
        "\n",
        "#Repeat the Chi Square Independence Test for the following table\n",
        "print(\"\\n\")\n",
        "print(\"Find the frequency count for grouped by sex (female and male), and  cabin class (Class 1, 2, 3)\")\n",
        "groupby_sex2 = titanic.groupby([\"Sex\", \"Pclass\"]).size()\n",
        "crosstab2 = pd.crosstab(titanic[\"Sex\"], titanic[\"Pclass\"])\n",
        "print(crosstab2)\n",
        "print(\"\\n\")\n",
        "\n",
        "k, l, m, n = stats.chi2_contingency(crosstab2)\n",
        "print(\"The Chi Square value is:\", k)\n",
        "print(\"The pvalue is:\", l)\n",
        "print(\"The value for degree of freedom is :\", m)\n",
        "print(\"Expected cell counts is:\", n)\n",
        "print(\"\\n\")\n",
        "\n",
        "\n",
        "#Repeat the Chi Square Independence Test for the following table\n",
        "print(\"\\n\")\n",
        "print(\"Find the frequency count for grouped by survived (0,1), and  cabin class (Class 1, 2, 3)\")\n",
        "groupby_sex3 = titanic.groupby([\"Survived\", \"Pclass\"]).size()\n",
        "crosstab3 = pd.crosstab(titanic[\"Survived\"], titanic[\"Pclass\"])\n",
        "print(crosstab3)\n",
        "print(\"\\n\")\n",
        "\n",
        "f, g, h, i = stats.chi2_contingency(crosstab3)\n",
        "print(\"The Chi Square value is:\", f)\n",
        "print(\"The pvalue is:\", g)\n",
        "print(\"The value for degree of freedom is :\", h)\n",
        "print(\"Expected cell counts is:\", i)\n",
        "print(\"\\n\")\n",
        "\n",
        "\n",
        "#Repeat the Chi Square Independence Test for the following table\n",
        "print(\"\\n\")\n",
        "print(\"Find the frequency count for grouped by sex (male, female), survived (0,1), and  cabin class (Class 1, 2, 3)\")\n",
        "crosstab4 = pd.crosstab(titanic[\"Sex\"], [titanic[\"Survived\"], titanic[\"Pclass\"]])\n",
        "print(crosstab4)\n",
        "print(\"\\n\")\n",
        "\n",
        "p, q, r, s = stats.chi2_contingency(crosstab4)\n",
        "print(\"The Chi Square value is:\", p)\n",
        "print(\"The pvalue is:\", q)\n",
        "print(\"The value for degree of freedom is :\", r)\n",
        "print(\"Expected cell counts is:\", s)\n",
        "print(\"\\n\")\n",
        "\n"
      ],
      "metadata": {
        "colab": {
          "base_uri": "https://localhost:8080/"
        },
        "id": "3PeBek56fUj0",
        "outputId": "c61af162-acee-41ce-db25-4a05720e5a1d"
      },
      "execution_count": 13,
      "outputs": [
        {
          "output_type": "stream",
          "name": "stdout",
          "text": [
            "<class 'pandas.core.frame.DataFrame'>\n",
            "RangeIndex: 891 entries, 0 to 890\n",
            "Data columns (total 12 columns):\n",
            " #   Column       Non-Null Count  Dtype  \n",
            "---  ------       --------------  -----  \n",
            " 0   PassengerId  891 non-null    int64  \n",
            " 1   Survived     891 non-null    int64  \n",
            " 2   Pclass       891 non-null    int64  \n",
            " 3   Name         891 non-null    object \n",
            " 4   Sex          891 non-null    object \n",
            " 5   Age          714 non-null    float64\n",
            " 6   SibSp        891 non-null    int64  \n",
            " 7   Parch        891 non-null    int64  \n",
            " 8   Ticket       891 non-null    object \n",
            " 9   Fare         891 non-null    float64\n",
            " 10  Cabin        204 non-null    object \n",
            " 11  Embarked     889 non-null    object \n",
            "dtypes: float64(2), int64(5), object(5)\n",
            "memory usage: 83.7+ KB\n",
            "None\n",
            "\n",
            "\n",
            "       PassengerId    Survived      Pclass         Age       SibSp  \\\n",
            "count   891.000000  891.000000  891.000000  714.000000  891.000000   \n",
            "mean    446.000000    0.383838    2.308642   29.699118    0.523008   \n",
            "std     257.353842    0.486592    0.836071   14.526497    1.102743   \n",
            "min       1.000000    0.000000    1.000000    0.420000    0.000000   \n",
            "25%     223.500000    0.000000    2.000000   20.125000    0.000000   \n",
            "50%     446.000000    0.000000    3.000000   28.000000    0.000000   \n",
            "75%     668.500000    1.000000    3.000000   38.000000    1.000000   \n",
            "max     891.000000    1.000000    3.000000   80.000000    8.000000   \n",
            "\n",
            "            Parch        Fare  \n",
            "count  891.000000  891.000000  \n",
            "mean     0.381594   32.204208  \n",
            "std      0.806057   49.693429  \n",
            "min      0.000000    0.000000  \n",
            "25%      0.000000    7.910400  \n",
            "50%      0.000000   14.454200  \n",
            "75%      0.000000   31.000000  \n",
            "max      6.000000  512.329200  \n",
            "\n",
            "\n",
            "Total number of males and females who survived in the dataset\n",
            "Sex     Survived\n",
            "female  0            81\n",
            "        1           233\n",
            "male    0           468\n",
            "        1           109\n",
            "dtype: int64\n",
            "\n",
            "\n",
            "Survived    0    1\n",
            "Sex               \n",
            "female     81  233\n",
            "male      468  109\n",
            "\n",
            "\n",
            "The Chi Square value is: 260.71702016732104\n",
            "The pvalue is: 1.1973570627755645e-58\n",
            "The value for degree of freedom is : 1\n",
            "Expected cell counts is: [[193.47474747 120.52525253]\n",
            " [355.52525253 221.47474747]]\n",
            "\n",
            "\n",
            "Total number of males and females who survived in the dataset\n",
            "Number of females who died was: 81\n",
            "Number of females who survived was: 233\n",
            "Number of males who died was: 468\n",
            "Number of males who survived was: 109\n",
            "\n",
            "\n",
            "Find the frequency count for grouped by sex (female and male), and  cabin class (Class 1, 2, 3)\n",
            "Pclass    1    2    3\n",
            "Sex                  \n",
            "female   94   76  144\n",
            "male    122  108  347\n",
            "\n",
            "\n",
            "The Chi Square value is: 16.971499095517114\n",
            "The pvalue is: 0.00020638864348233114\n",
            "The value for degree of freedom is : 2\n",
            "Expected cell counts is: [[ 76.12121212  64.84399551 173.03479237]\n",
            " [139.87878788 119.15600449 317.96520763]]\n",
            "\n",
            "\n",
            "\n",
            "\n",
            "Find the frequency count for grouped by survived (0,1), and  cabin class (Class 1, 2, 3)\n",
            "Pclass      1   2    3\n",
            "Survived              \n",
            "0          80  97  372\n",
            "1         136  87  119\n",
            "\n",
            "\n",
            "The Chi Square value is: 102.88898875696056\n",
            "The pvalue is: 4.549251711298793e-23\n",
            "The value for degree of freedom is : 2\n",
            "Expected cell counts is: [[133.09090909 113.37373737 302.53535354]\n",
            " [ 82.90909091  70.62626263 188.46464646]]\n",
            "\n",
            "\n",
            "\n",
            "\n",
            "Find the frequency count for grouped by sex (male, female), survived (0,1), and  cabin class (Class 1, 2, 3)\n",
            "Survived   0            1        \n",
            "Pclass     1   2    3   1   2   3\n",
            "Sex                              \n",
            "female     3   6   72  91  70  72\n",
            "male      77  91  300  45  17  47\n",
            "\n",
            "\n",
            "The Chi Square value is: 282.78214945699733\n",
            "The pvalue is: 5.026114998184125e-59\n",
            "The value for degree of freedom is : 5\n",
            "Expected cell counts is: [[ 28.19304153  34.18406285 131.0976431   47.92817059  30.65993266\n",
            "   41.93714927]\n",
            " [ 51.80695847  62.81593715 240.9023569   88.07182941  56.34006734\n",
            "   77.06285073]]\n",
            "\n",
            "\n"
          ]
        }
      ]
    }
  ]
}